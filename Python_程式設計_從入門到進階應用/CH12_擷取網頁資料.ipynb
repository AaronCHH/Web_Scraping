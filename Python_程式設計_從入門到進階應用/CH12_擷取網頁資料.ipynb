{
 "cells": [
  {
   "cell_type": "markdown",
   "metadata": {},
   "source": [
    "# CH12_擷取網頁資料"
   ]
  },
  {
   "cell_type": "markdown",
   "metadata": {},
   "source": [
    "<div id=\"toc\"></div>"
   ]
  },
  {
   "cell_type": "code",
   "execution_count": null,
   "metadata": {},
   "outputs": [],
   "source": []
  },
  {
   "cell_type": "code",
   "execution_count": null,
   "metadata": {
    "scrolled": true
   },
   "outputs": [],
   "source": [
    "flist = !dir Ch12 /b \n",
    "[print(\"%load \" + \"Ch12\" + \"/\" + f) for f in flist if f[-2:]==\"py\"]"
   ]
  },
  {
   "cell_type": "markdown",
   "metadata": {},
   "source": [
    "## 12-1 urllib.request, urllib.response and resquests"
   ]
  },
  {
   "cell_type": "markdown",
   "metadata": {},
   "source": [
    "### 12-1-1 使用urllib.request下載網頁"
   ]
  },
  {
   "cell_type": "code",
   "execution_count": null,
   "metadata": {},
   "outputs": [],
   "source": [
    "# %load Ch12/12-1-1-模組urllib.request.py\n",
    "import urllib.request as ur\n",
    "url='https://www.python.org'"
   ]
  },
  {
   "cell_type": "code",
   "execution_count": null,
   "metadata": {},
   "outputs": [],
   "source": [
    "resp=ur.urlopen(url)\n",
    "print(resp.geturl())"
   ]
  },
  {
   "cell_type": "code",
   "execution_count": null,
   "metadata": {},
   "outputs": [],
   "source": [
    "print(resp.status)"
   ]
  },
  {
   "cell_type": "code",
   "execution_count": null,
   "metadata": {},
   "outputs": [],
   "source": [
    "print(resp.getheaders())"
   ]
  },
  {
   "cell_type": "code",
   "execution_count": null,
   "metadata": {},
   "outputs": [],
   "source": [
    "data=resp.read()\n",
    "print(data)"
   ]
  },
  {
   "cell_type": "code",
   "execution_count": null,
   "metadata": {},
   "outputs": [],
   "source": [
    "print(data.decode())"
   ]
  },
  {
   "cell_type": "markdown",
   "metadata": {},
   "source": [
    "### 12-1-2 使用requests下載網頁"
   ]
  },
  {
   "cell_type": "code",
   "execution_count": null,
   "metadata": {},
   "outputs": [],
   "source": [
    "# %load Ch12/12-1-2-requests.py\n",
    "import requests\n",
    "url = 'http://www.python.org'"
   ]
  },
  {
   "cell_type": "code",
   "execution_count": null,
   "metadata": {},
   "outputs": [],
   "source": [
    "data = requests.get(url)"
   ]
  },
  {
   "cell_type": "code",
   "execution_count": null,
   "metadata": {},
   "outputs": [],
   "source": [
    "print(data.encoding)"
   ]
  },
  {
   "cell_type": "code",
   "execution_count": null,
   "metadata": {},
   "outputs": [],
   "source": [
    "print(data.status_code)"
   ]
  },
  {
   "cell_type": "code",
   "execution_count": null,
   "metadata": {},
   "outputs": [],
   "source": [
    "print(data.headers)"
   ]
  },
  {
   "cell_type": "code",
   "execution_count": null,
   "metadata": {},
   "outputs": [],
   "source": [
    "print(data.text)"
   ]
  },
  {
   "cell_type": "markdown",
   "metadata": {},
   "source": [
    "## 12-2 json"
   ]
  },
  {
   "cell_type": "markdown",
   "metadata": {},
   "source": [
    "### 12-2-1 json module"
   ]
  },
  {
   "cell_type": "code",
   "execution_count": 37,
   "metadata": {},
   "outputs": [],
   "source": [
    "# %load Ch12/12-2-1-模組json.py\n",
    "import json\n",
    "dic = { 1: 'a',2: 'b',3: 'c'}"
   ]
  },
  {
   "cell_type": "code",
   "execution_count": 38,
   "metadata": {},
   "outputs": [
    {
     "name": "stdout",
     "output_type": "stream",
     "text": [
      "{\"1\": \"a\", \"2\": \"b\", \"3\": \"c\"}\n"
     ]
    }
   ],
   "source": [
    "js = json.dumps(dic)\n",
    "print(js)"
   ]
  },
  {
   "cell_type": "code",
   "execution_count": 39,
   "metadata": {},
   "outputs": [
    {
     "name": "stdout",
     "output_type": "stream",
     "text": [
      "{'1': 'a', '3': 'c', '2': 'b'}\n"
     ]
    }
   ],
   "source": [
    "dic2 = json.loads(js)\n",
    "print(dic2)"
   ]
  },
  {
   "cell_type": "markdown",
   "metadata": {},
   "source": [
    "### 12-2-2-Google地圖找出台灣邊界"
   ]
  },
  {
   "cell_type": "code",
   "execution_count": 40,
   "metadata": {},
   "outputs": [
    {
     "name": "stdout",
     "output_type": "stream",
     "text": [
      "{'results': [{'types': ['country', 'political'], 'formatted_address': 'Taiwan', 'geometry': {'location': {'lat': 23.69781, 'lng': 120.960515}, 'location_type': 'APPROXIMATE', 'bounds': {'northeast': {'lat': 26.4545, 'lng': 123.5021012}, 'southwest': {'lat': 20.5170001, 'lng': 116.6665}}, 'viewport': {'northeast': {'lat': 26.4545, 'lng': 123.5021012}, 'southwest': {'lat': 20.5170001, 'lng': 116.6665}}}, 'place_id': 'ChIJL1cHXAbzbjQRaVScvwTwEec', 'address_components': [{'short_name': 'TW', 'long_name': 'Taiwan', 'types': ['country', 'political']}]}], 'status': 'OK'}\n",
      "northeast {'lat': 26.4545, 'lng': 123.5021012}\n",
      "southwest {'lat': 20.5170001, 'lng': 116.6665}\n"
     ]
    }
   ],
   "source": [
    "# %load Ch12/12-2-2-Google地圖找出台灣邊界.py\n",
    "import requests\n",
    "import json\n",
    "url=\"http://maps.googleapis.com/maps/api/geocode/json?address=taiwan&sensor=false\"\n",
    "result=requests.get(url)\n",
    "data=json.loads(result.text)\n",
    "print(data)\n",
    "for i in data['results']:\n",
    "    for key,value in i['geometry']['bounds'].items():\n",
    "        print(key,value)"
   ]
  },
  {
   "cell_type": "markdown",
   "metadata": {},
   "source": [
    "## 12-3 存取XML"
   ]
  },
  {
   "cell_type": "markdown",
   "metadata": {},
   "source": [
    "### 12-3-1-分析XML"
   ]
  },
  {
   "cell_type": "code",
   "execution_count": 41,
   "metadata": {},
   "outputs": [
    {
     "name": "stdout",
     "output_type": "stream",
     "text": [
      "class\n"
     ]
    }
   ],
   "source": [
    "# %load Ch12/12-3-1-分析XML.py\n",
    "import xml.etree.ElementTree as xmltree\n",
    "tree = xmltree.ElementTree(file='ch12/my.xml')\n",
    "root = tree.getroot()\n",
    "print(root.tag)"
   ]
  },
  {
   "cell_type": "code",
   "execution_count": 42,
   "metadata": {
    "scrolled": true
   },
   "outputs": [
    {
     "name": "stdout",
     "output_type": "stream",
     "text": [
      "標籤 morning ，屬性 {'time': '8:00-12:00'} ，值 上午課程\n",
      "標籤 item ，屬性 {'time': '8:10-10:00', 'where': '電腦教室'} ，值 電腦\n",
      "標籤 item ，屬性 {'time': '10:10-12:00'} ，值 英文\n",
      "標籤 afternoon ，屬性 {'time': '13:00-17:00'} ，值 下午課程\n",
      "標籤 item ，屬性 {'time': '13:10-14:00', 'where': '操場'} ，值 體育\n",
      "標籤 item ，屬性 {'time': '14:10-16:00'} ，值 數學\n",
      "標籤 item ，屬性 {'time': '16:10-17:00'} ，值 地理\n",
      "{'time': '8:10-10:00', 'where': '電腦教室'} 電腦\n",
      "{'time': '10:10-12:00'} 英文\n",
      "{'time': '13:10-14:00', 'where': '操場'} 體育\n",
      "{'time': '14:10-16:00'} 數學\n",
      "{'time': '16:10-17:00'} 地理\n",
      "標籤為 item ，屬性 {'time': '8:10-10:00', 'where': '電腦教室'} ，值 電腦\n",
      "標籤為 item ，屬性 {'time': '10:10-12:00'} ，值 英文\n"
     ]
    }
   ],
   "source": [
    "for a in root:\n",
    "    print('標籤', a.tag, '，屬性', a.attrib, '，值', a.text)\n",
    "    for b in a:\n",
    "        print('標籤', b.tag, '，屬性', b.attrib, '，值', b.text)\n",
    "for item in root.iter('item'):\n",
    "    print(item.attrib , item.text)\n",
    "for item in root.findall('./morning/item'):\n",
    "    print('標籤為', item.tag, '，屬性', item.attrib, '，值', item.text)"
   ]
  },
  {
   "cell_type": "markdown",
   "metadata": {},
   "source": [
    "### 12-3-2-讀取RSS"
   ]
  },
  {
   "cell_type": "code",
   "execution_count": null,
   "metadata": {
    "scrolled": false
   },
   "outputs": [],
   "source": [
    "# %load Ch12/12-3-2-讀取RSS.py\n",
    "import requests\n",
    "import xml.etree.ElementTree as xmltree\n",
    "url=\"https://pypi.python.org/pypi?%3Aaction=rss\"\n",
    "result=requests.get(url)\n",
    "element=xmltree.fromstring(result.text)\n",
    "print(xmltree.dump(element))"
   ]
  },
  {
   "cell_type": "code",
   "execution_count": null,
   "metadata": {
    "scrolled": false
   },
   "outputs": [],
   "source": [
    "for item in element.findall('./channel/item'):\n",
    "    for b in item:\n",
    "        print(b.tag, b.text)\n",
    "    print()"
   ]
  },
  {
   "cell_type": "markdown",
   "metadata": {},
   "source": [
    "## 12-4 Beautiful Soup"
   ]
  },
  {
   "cell_type": "markdown",
   "metadata": {},
   "source": [
    "### 12-4-1-模組BeautifulSoup"
   ]
  },
  {
   "cell_type": "code",
   "execution_count": 46,
   "metadata": {},
   "outputs": [],
   "source": [
    "# %load Ch12/12-4-1-模組BeautifulSoup.py\n",
    "from bs4 import BeautifulSoup as soup\n",
    "fin = open('ch12/web.htm', encoding='utf-8')\n",
    "s = fin.read()"
   ]
  },
  {
   "cell_type": "code",
   "execution_count": null,
   "metadata": {
    "scrolled": true
   },
   "outputs": [],
   "source": [
    "htm = soup(s, 'html.parser')\n",
    "print(htm.title.prettify())\n",
    "print(htm.title.contents)\n",
    "print(htm.title.contents[0])\n",
    "print(htm.title.name)\n",
    "print(htm.title.string)\n",
    "print(htm.meta)\n",
    "print(htm.meta['content'])\n",
    "for item in htm.find_all('td'):\n",
    "    print(item)\n",
    "for item in htm.find_all('td',class_='table_head'):\n",
    "    print(item)\n",
    "for item in htm.find_all('td',class_='table_siteurl'):\n",
    "    print(item.a['href'])"
   ]
  },
  {
   "cell_type": "markdown",
   "metadata": {},
   "source": [
    "### 12-4-2-使用BeautifulSoup找出所有超連結"
   ]
  },
  {
   "cell_type": "code",
   "execution_count": 48,
   "metadata": {},
   "outputs": [],
   "source": [
    "# %load Ch12/12-4-2-使用BeautifulSoup找出所有超連結.py\n",
    "import requests\n",
    "from bs4 import BeautifulSoup as soup\n",
    "url='http://www.python.org'"
   ]
  },
  {
   "cell_type": "code",
   "execution_count": 49,
   "metadata": {},
   "outputs": [],
   "source": [
    "def h(url):\n",
    "    if url[:4] == 'http' or url[:5]=='https':\n",
    "        return True\n",
    "def links(url):\n",
    "    page = requests.get(url).text\n",
    "    htm=soup(page,'html.parser')\n",
    "    alinks=[item['href'] for item in htm.find_all('a')]\n",
    "    links=[x for x in alinks if h(x)]\n",
    "    return links"
   ]
  },
  {
   "cell_type": "code",
   "execution_count": null,
   "metadata": {
    "scrolled": false
   },
   "outputs": [],
   "source": [
    "print('找出網址為',url,'的http與https開頭的超連結')\n",
    "for link in links(url):\n",
    "    print(link)"
   ]
  },
  {
   "cell_type": "markdown",
   "metadata": {},
   "source": [
    "### 12-4-3-使用BeautifulSoup找出Python網站的最新消息"
   ]
  },
  {
   "cell_type": "code",
   "execution_count": 51,
   "metadata": {},
   "outputs": [],
   "source": [
    "# %load Ch12/12-4-3-使用BeautifulSoup找出Python網站的最新消息.py\n",
    "import requests\n",
    "from bs4 import BeautifulSoup as soup\n",
    "url='http://www.python.org/'"
   ]
  },
  {
   "cell_type": "code",
   "execution_count": null,
   "metadata": {
    "scrolled": true
   },
   "outputs": [],
   "source": [
    "def getnews(url):\n",
    "    page = requests.get(url).text\n",
    "    htm=soup(page,'html.parser')\n",
    "    items = [elem for elem in htm.find_all('div', class_='shrubbery') ]\n",
    "    for item in items:\n",
    "        if item.h2.contents[1] == 'Latest News':\n",
    "            ys = [y for y in item.find_all('li')]\n",
    "            for y in ys:\n",
    "                time = y.time['datetime']\n",
    "                link = y.a['href']\n",
    "                title = y.a.string\n",
    "                print(time, title, link)\n",
    "getnews(url)"
   ]
  },
  {
   "cell_type": "markdown",
   "metadata": {},
   "source": [
    "## Exercise"
   ]
  },
  {
   "cell_type": "markdown",
   "metadata": {},
   "source": [
    "### ex1-網站PyPI最新套件"
   ]
  },
  {
   "cell_type": "code",
   "execution_count": 53,
   "metadata": {},
   "outputs": [],
   "source": [
    "# %load Ch12/ex1-網站PyPI最新套件.py\n",
    "import requests\n",
    "from bs4 import BeautifulSoup as soup\n",
    "url='https://pypi.python.org/pypi'"
   ]
  },
  {
   "cell_type": "code",
   "execution_count": null,
   "metadata": {
    "scrolled": false
   },
   "outputs": [],
   "source": [
    "def getnews(url):\n",
    "    page = requests.get(url).text\n",
    "    htm=soup(page,'html.parser')\n",
    "    items = [elem for elem in htm.find_all('table', class_='list') ]\n",
    "    tds = [td for td in items[0].find_all('td')]\n",
    "    print(tds)\n",
    "    for i in range(0, len(tds)-1, 3):\n",
    "        time = tds[i].string\n",
    "        link = tds[i+1].a['href']\n",
    "        pj = tds[i+1].a.string\n",
    "        des = tds[i+2].string\n",
    "        print(time, pj, des, 'https://pypi.python.org'+link)\n",
    "getnews(url)"
   ]
  },
  {
   "cell_type": "markdown",
   "metadata": {},
   "source": [
    "### ex2-下載古蹟XML資訊進行分析"
   ]
  },
  {
   "cell_type": "code",
   "execution_count": null,
   "metadata": {
    "scrolled": false
   },
   "outputs": [],
   "source": [
    "# %load Ch12/ex2-下載古蹟XML資訊進行分析.py\n",
    "import requests\n",
    "import xml.etree.ElementTree as xmltree\n",
    "url=\"http://cloud.culture.tw/frontsite/trans/emapOpenDataAction.do?\\\n",
    "method=exportEmapXML&typeId=A&classifyId=1.1\"\n",
    "result=requests.get(url)\n",
    "element=xmltree.fromstring(result.text)\n",
    "print(xmltree.dump(element))"
   ]
  },
  {
   "cell_type": "code",
   "execution_count": null,
   "metadata": {
    "scrolled": false
   },
   "outputs": [],
   "source": [
    "for item in element.findall('./emapItem/emap/Info'):\n",
    "    print(item.attrib['name'], item.attrib['level'], item.attrib['cityName'], item.attrib['address'])"
   ]
  },
  {
   "cell_type": "markdown",
   "metadata": {},
   "source": [
    "### ex3-下載古蹟JSON資訊進行分析"
   ]
  },
  {
   "cell_type": "code",
   "execution_count": null,
   "metadata": {
    "scrolled": true
   },
   "outputs": [],
   "source": [
    "# %load Ch12/ex3-下載古蹟JSON資訊進行分析.py\n",
    "import requests\n",
    "import json\n",
    "url=\"http://cloud.culture.tw/frontsite/trans/emapOpenDataAction.do?\\\n",
    "method=exportEmapJson&typeId=A&classifyId=1.1\"\n",
    "result=requests.get(url)\n",
    "data=json.loads(result.text)\n",
    "print(data)"
   ]
  },
  {
   "cell_type": "code",
   "execution_count": null,
   "metadata": {
    "scrolled": false
   },
   "outputs": [],
   "source": [
    "for i in data:\n",
    "    print(i['name'], i['level'], i['cityName'], i['address'])"
   ]
  },
  {
   "cell_type": "code",
   "execution_count": null,
   "metadata": {},
   "outputs": [],
   "source": []
  },
  {
   "cell_type": "code",
   "execution_count": null,
   "metadata": {},
   "outputs": [],
   "source": []
  }
 ],
 "metadata": {
  "kernelspec": {
   "display_name": "Python 3",
   "language": "python",
   "name": "python3"
  },
  "language_info": {
   "codemirror_mode": {
    "name": "ipython",
    "version": 3
   },
   "file_extension": ".py",
   "mimetype": "text/x-python",
   "name": "python",
   "nbconvert_exporter": "python",
   "pygments_lexer": "ipython3",
   "version": "3.5.2"
  }
 },
 "nbformat": 4,
 "nbformat_minor": 2
}
